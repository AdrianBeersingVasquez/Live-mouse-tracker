{
 "cells": [
  {
   "cell_type": "markdown",
   "metadata": {},
   "source": [
    "# <center>lmt-analysis with Jupyter</center>\n",
    "\n",
    "This notebook aims at providing all the basics needed to perform the analysis of the data provided by LiveMouseTracker.\n",
    "\n",
    "We detail what the system records, and how to process it. This file also points to a number of scripts that you will use for analysis.\n",
    "\n",
    "To run this notebook on your computer with Jupyter, proceeed as follow:\n",
    "\n",
    "   - Download [this python repository](https://github.com/fdechaumont/lmt-analysis) and unzip it in a folder on your computer. (note that Jupyter will only let you browse files starting from your home directory. So place this folder in your documents or on your desktop for instance)\n",
    "   - Install [Anaconda with python v3.x](https://www.anaconda.com/distribution/).\n",
    "   - And then launch \"Jupyter Notebook\".\n",
    "   - Browse to this file on your local computer and then press play. :)\n",
    "   - Here is a cool [video about Jupyter and how to start with it](https://www.youtube.com/watch?v=CwFq3YDU6_Y) to get you a brief sumup of what you can do with it.\n",
    "\n",
    "# Main concepts of Live Mouse Tracker:\n",
    "\n",
    "## Live Mouse Tracker provides two main output:\n",
    "\n",
    "We will here focus on the two main output of LiveMouseTracker:\n",
    "\n",
    "- LiveMouseTracker records data in a database. Those files are .sqlite files. They contains \n",
    "    \n",
    "    - The id of each animal (their RFID number, and also the genotype of mice if you provide them)\n",
    "    - All the tracking information (detection, tracks, detection mask of animals )\n",
    "    - All the events (for instance nose-nose events) with a starting and ending frame.\n",
    "    - Sensor information (temperature, humidity, light, noise level)\n",
    "    - Third party events (events generated from an Arduino or a custom TTL device)\n",
    "    \n",
    "- Video files, in mp4 format, containing the same view that you had in LiveMouseTracker while performing the record.\n",
    "    \n",
    "## Frame number and clock\n",
    "\n",
    "The time unit of LiveMouseTracker is the frame. The recording is performed at 30 frames per seconds. Each event starts and ends at a given frame. For each frame, we record its date and time.\n",
    "\n",
    "In the video file, the frame number is hard-coded at the bottom of the video so that you can find the exact frame in the video where an event occurs.\n",
    "Also, in the LiveDataPlayer, the frame number is always visible which helps you checking with the video file if needed.\n",
    "    \n",
    "## About the events:\n",
    "\n",
    "- Events are key in LiveMouseTracker. You will mostly use LMT to check the number of events that occurs during a period, their length, their frequency, how they may be synchronized with other events.\n",
    "\n",
    "- Each event can refer to 4 ids (idA,idB,idC,idD). If you want to grab informations about the oral-genital event between animal 2 and 4, you just need to specify IDs to select those events. Note that Oral-Genital 2,4 will provide a different result than Oral-Genital 4,2 as the event is directed. For symetrical events such as Oral-Oral, (2,4) and (4,2) will provide the same results.\n",
    "\n",
    "- Quering events without all ids specified:\n",
    "If you don't provide a given ID, any ID will be used. (explain more here)\n",
    "\n",
    "## timelines:\n",
    "\n",
    "Explain timelines.\n",
    "\n",
    "## Prepare data:\n",
    "\n",
    "- [Rebuild all events](file.ipynb) \n",
    "- [Compute sensor data](file.ipynb) \n",
    "- [Set night/day for experiment](file.ipynb) \n",
    "\n",
    "## Analysis:\n",
    "\n",
    "- [Show timelines](file.ipynb) \n",
    "- [Build profiles](file.ipynb) \n",
    "\n",
    "\n",
    "## Additional infos:\n",
    "\n",
    "Video demo and available databases: https://livemousetracker.org/  \n",
    "LiveMouseTracker paper on [bioRxiv](https://www.biorxiv.org/content/10.1101/345132v2)  \n",
    "mail: [chaumont@pasteur.fr, elodie.ey@pasteur.fr](mailto:chaumont@pasteur.fr, elodie.ey@pasteur.fr)  \n",
    "Another [tutorial of the this lib (slide presentation)](https://docs.google.com/presentation /d/1wR7JM2vq5ZjugrwDe4YuuKJm0MWIvkHAvrOH7mQNOEk/edit?usp=sharing)  \n",
    "\n",
    "How to use run this tutorial with your data:\n",
    "1. Download or connect a git client to the lmt-analysis repository : https://github.com/fdechaumont/lmt-analysis\n",
    "2. Download the demo database produced by Live Mouse Tracker: http://bioimageanalysis.org/lmt\n",
    "3. Install anaconda, and run the jupyter notebook: https://www.anaconda.com/distribution/\n",
    "4. Point your browser to this file (example/Examples with Jupyter)\n",
    "/lmt/20180110_validation_4_ind_Experiment_6644.zip\n",
    "5. Run\n",
    "6. Select the database you just downloaded when asked.\n",
    "7. Enjoy the results.\n",
    "\n"
   ]
  },
  {
   "cell_type": "code",
   "execution_count": null,
   "metadata": {
    "collapsed": true
   },
   "outputs": [],
   "source": []
  },
  {
   "cell_type": "code",
   "execution_count": null,
   "metadata": {
    "collapsed": true
   },
   "outputs": [],
   "source": []
  },
  {
   "cell_type": "code",
   "execution_count": null,
   "metadata": {
    "collapsed": true
   },
   "outputs": [],
   "source": []
  },
  {
   "cell_type": "code",
   "execution_count": null,
   "metadata": {
    "collapsed": true
   },
   "outputs": [],
   "source": []
  },
  {
   "cell_type": "code",
   "execution_count": null,
   "metadata": {
    "collapsed": true
   },
   "outputs": [],
   "source": []
  },
  {
   "cell_type": "code",
   "execution_count": null,
   "metadata": {
    "collapsed": true
   },
   "outputs": [],
   "source": []
  },
  {
   "cell_type": "code",
   "execution_count": null,
   "metadata": {
    "collapsed": true
   },
   "outputs": [],
   "source": []
  },
  {
   "cell_type": "code",
   "execution_count": null,
   "metadata": {
    "collapsed": true
   },
   "outputs": [],
   "source": []
  }
 ],
 "metadata": {
  "kernelspec": {
   "display_name": "Python 3",
   "language": "python",
   "name": "python3"
  },
  "language_info": {
   "codemirror_mode": {
    "name": "ipython",
    "version": 3
   },
   "file_extension": ".py",
   "mimetype": "text/x-python",
   "name": "python",
   "nbconvert_exporter": "python",
   "pygments_lexer": "ipython3",
   "version": "3.6.3"
  }
 },
 "nbformat": 4,
 "nbformat_minor": 2
}
