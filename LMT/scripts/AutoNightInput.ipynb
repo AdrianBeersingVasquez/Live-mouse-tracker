{
 "cells": [
  {
   "cell_type": "markdown",
   "metadata": {},
   "source": [
    "# Automatic night input\n",
    "\n",
    "This script let you set the night in the database automatically. It use the light sensor data to compute it.\n",
    "\n",
    "If first shows the day/night graph and corresponding date/time and ask for confirmation on the value found\n",
    "\n",
    "| ![](../images/autonight.jpg) | \n",
    "|:--:| \n",
    "|Example of graph obtain with autonight. At the beginning of the experiment one can see the high lights while the experiment is starting, then the plateau when lights are on, and the 2nd plateau representing the night, and again on light phase **horizontal red line**:automatic threshold on light value. **pink zone**: dark phases found automatically, **gray zone (surimposed on pink in this example)**: dark phases previously existing in the sequence |"
   ]
  },
  {
   "cell_type": "code",
   "execution_count": 3,
   "metadata": {
    "scrolled": false
   },
   "outputs": [
    {
     "name": "stdout",
     "output_type": "stream",
     "text": [
      "Code launched.\n",
      "Processing file E:/all_data_usv_pairs/20191112_shank3_9187_9518_two_micros_Experiment 643/20191112_shank3_9187_9518_two_micros_Experiment 643.sqlite\n",
      "--------------\n",
      "Current file:  E:/all_data_usv_pairs/20191112_shank3_9187_9518_two_micros_Experiment 643/20191112_shank3_9187_9518_two_micros_Experiment 643.sqlite\n",
      "night  Id( None , None , None , None ) Min/maxFrame: ( None / None ) Loaded ( 5  records loaded in  5.114268064498901 S )\n",
      "Loading animals.\n",
      "Fields available in lmtanalysis:  ['ID', 'RFID', 'GENOTYPE', 'NAME']\n",
      "SQL Query: SELECT ID,RFID,NAME,GENOTYPE FROM ANIMAL ORDER BY GENOTYPE\n",
      "Animal Id:2 Name:B RFID:000004849518 Genotype:S User1:None\n",
      "Animal Id:1 Name:A RFID:000004849187 Genotype:SH3 User1:None\n",
      "plotting sensor data.  LIGHTVISIBLE\n",
      "night  Id( None , None , None , None ) Min/maxFrame: ( None / None ) Loaded ( 5  records loaded in  0.6818745136260986 S )\n",
      "std: 10.012922724030055\n",
      "Saving figure : E:/all_data_usv_pairs/20191112_shank3_9187_9518_two_micros_Experiment 643/20191112_shank3_9187_9518_two_micros_Experiment 643.sqlite_log_light visible.pdf\n",
      "The entered framenumber is out of range\n",
      "The entered framenumber is out of range\n",
      "The entered framenumber is out of range\n",
      "The entered framenumber is out of range\n"
     ]
    },
    {
     "data": {
      "image/png": "[encoded data removed]",
      "text/plain": [
       "<matplotlib.figure.Figure at 0x2da830190f0>"
      ]
     },
     "metadata": {},
     "output_type": "display_data"
    },
    {
     "name": "stdout",
     "output_type": "stream",
     "text": [
      "Night # 1\n",
      "Starts at  12-11 (Nov)-2019 19:57:37\n",
      "Ends at  13-11 (Nov)-2019 06:59:02\n",
      "Set night(s) with autoNight data ? [Y/N]:y\n",
      "Setting events...\n",
      "night  Id( None , None , None , None ) Min/maxFrame: ( None / None ) Loaded ( 5  records loaded in  0.5957636833190918 S )\n",
      "Number of event:  1\n",
      "Mean length of event:  1190345.0\n",
      "first event frame:  981283\n",
      "Keep previous entry.\n",
      "Saving timeLine: night ( 1 events )\n",
      "Setting events... Done\n",
      "*** ALL JOBS DONE ***\n"
     ]
    }
   ],
   "source": [
    "import sys\n",
    "sys.path.insert(1, \"../\")\n",
    "\n",
    "import sqlite3\n",
    "from lmtanalysis.Animal import *\n",
    "from lmtanalysis.Event import *\n",
    "from lmtanalysis.Measure import *\n",
    "from tkinter.filedialog import askopenfilename\n",
    "import sys\n",
    "from lmtanalysis.FileUtil import getFilesToProcess\n",
    "\n",
    "class FileProcessException(Exception):\n",
    "    pass\n",
    "\n",
    "def getDateTime( animalPool, frame ):\n",
    "\n",
    "    if frame > 0:\n",
    "        \n",
    "        datetime = getDatetimeFromFrame( animalPool.conn , frame )\n",
    "        if datetime != None:\n",
    "            realTime = getDatetimeFromFrame( animalPool.conn , frame ).strftime('%d-%m (%b)-%Y %H:%M:%S')\n",
    "            return realTime\n",
    "    return None\n",
    "\n",
    "\n",
    "def process( file ):\n",
    "    \n",
    "    connection = sqlite3.connect( file )     \n",
    "\n",
    "    print( \"--------------\")\n",
    "    print( \"Current file: \", file )\n",
    "    \n",
    "    nightTimeLine = EventTimeLine( connection, \"night\" , None, None, None , None )\n",
    "    nightTimeLine.eventList.clear()\n",
    "    \n",
    "    connection = sqlite3.connect( file )\n",
    "    # build sensor data\n",
    "    animalPool = AnimalPool( )\n",
    "    animalPool.loadAnimals( connection )\n",
    "    autoNightList = animalPool.plotSensorData( \n",
    "        sensor = \"LIGHTVISIBLE\" , minValue = 40 , saveFile = file+\"_log_light visible.pdf\", show = True, autoNight = True  )\n",
    "    \n",
    "    # show nights \n",
    "    \n",
    "    nightNumber = 1\n",
    "\n",
    "    if autoNightList == None:\n",
    "        print(\"No sensor data found.\")\n",
    "        return\n",
    "    \n",
    "    for autoNight in autoNightList:\n",
    "        print( \"Night #\" , str( nightNumber ) )\n",
    "        print( \"Starts at \" , getDateTime( animalPool , autoNight[0] ) )\n",
    "        print( \"Ends at \" , getDateTime( animalPool, autoNight[1]) )\n",
    "        \n",
    "        nightNumber+=1\n",
    "    \n",
    "    # ask confirmation\n",
    "        \n",
    "    answer = input (\"Set night(s) with autoNight data ? [Y/N]:\")\n",
    "    if answer.lower() == \"y\":\n",
    "        print(\"Setting events...\")\n",
    "        \n",
    "        nightTimeLine = EventTimeLine( connection, \"night\" , None, None, None , None )        \n",
    "        nightTimeLine.eventList.clear()\n",
    "              \n",
    "        for autoNight in autoNightList:\n",
    "            nightTimeLine.addEvent( Event( autoNight[0], autoNight[1] ) )\n",
    "              \n",
    "        nightTimeLine.endRebuildEventTimeLine(connection)\n",
    "        print(\"Setting events... Done\")\n",
    "    else:\n",
    "        print(\"autoNight canceled.\")\n",
    "    \n",
    "print(\"Code launched.\")\n",
    "\n",
    "files = getFilesToProcess()\n",
    "\n",
    "if ( files != None ):\n",
    "\n",
    "    for file in files:\n",
    "        try:\n",
    "            print ( \"Processing file\" , file )\n",
    "            process( file )\n",
    "        except FileProcessException:\n",
    "            print ( \"STOP PROCESSING FILE \" + file , file=sys.stderr  )\n",
    "\n",
    "print( \"*** ALL JOBS DONE ***\")"
   ]
  },
  {
   "cell_type": "code",
   "execution_count": null,
   "metadata": {
    "collapsed": true
   },
   "outputs": [],
   "source": []
  },
  {
   "cell_type": "code",
   "execution_count": null,
   "metadata": {
    "collapsed": true
   },
   "outputs": [],
   "source": []
  }
 ],
 "metadata": {
  "kernelspec": {
   "display_name": "Python 3",
   "language": "python",
   "name": "python3"
  },
  "language_info": {
   "codemirror_mode": {
    "name": "ipython",
    "version": 3
   },
   "file_extension": ".py",
   "mimetype": "text/x-python",
   "name": "python",
   "nbconvert_exporter": "python",
   "pygments_lexer": "ipython3",
   "version": "3.6.3"
  }
 },
 "nbformat": 4,
 "nbformat_minor": 2
}
