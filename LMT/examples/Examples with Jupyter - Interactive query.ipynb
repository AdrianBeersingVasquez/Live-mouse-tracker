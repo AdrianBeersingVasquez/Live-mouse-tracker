{
 "cells": [
  {
   "cell_type": "markdown",
   "metadata": {},
   "source": [
    "# Using the lmt-analysis library with Jupyter - Level 2\n",
    "\n",
    "We show here some more advanced examples of Live Mouse Tracker analysis.\n",
    "\n",
    "Video demo and available databases: https://livemousetracker.org/\n",
    "Paper : https://www.biorxiv.org/content/10.1101/345132v2\n",
    "mail: chaumont@pasteur.fr, elodie.ey@pasteur.fr\n",
    "Twitter : @fabdechaumont\n",
    "Another tutorial of the this lib (slide presentation): https://docs.google.com/presentation/d/1wR7JM2vq5ZjugrwDe4YuuKJm0MWIvkHAvrOH7mQNOEk/edit?usp=sharing\n",
    "\n",
    "How to use run this tutorial with your data:\n",
    "1. Download or connect a git client to the lmt-analysis repository : https://github.com/fdechaumont/lmt-analysis\n",
    "2. Download the demo database produced by Live Mouse Tracker: http://bioimageanalysis.org\n",
    "3. Install anaconda, and run the jupyter notebook: https://www.anaconda.com/distribution/\n",
    "4. Point your browser to this file (example/Examples with Jupyter)\n",
    "/lmt/20180110_validation_4_ind_Experiment_6644.zip\n",
    "5. Run\n",
    "6. Select the database you just downloaded when asked.\n",
    "7. Enjoy the results."
   ]
  },
  {
   "cell_type": "markdown",
   "metadata": {},
   "source": [
    "In this demo, we will use widgets to make the analysis interactive with the user."
   ]
  },
  {
   "cell_type": "code",
   "execution_count": 1,
   "metadata": {},
   "outputs": [
    {
     "name": "stderr",
     "output_type": "stream",
     "text": [
      "..\\lmtanalysis\\Animal.py:11: UserWarning: \n",
      "This call to matplotlib.use() has no effect because the backend has already\n",
      "been chosen; matplotlib.use() must be called *before* pylab, matplotlib.pyplot,\n",
      "or matplotlib.backends is imported for the first time.\n",
      "\n",
      "The backend was *originally* set to 'module://ipykernel.pylab.backend_inline' by the following code:\n",
      "  File \"C:\\Users\\Fab\\Anaconda3bis\\lib\\runpy.py\", line 193, in _run_module_as_main\n",
      "    \"__main__\", mod_spec)\n",
      "  File \"C:\\Users\\Fab\\Anaconda3bis\\lib\\runpy.py\", line 85, in _run_code\n",
      "    exec(code, run_globals)\n",
      "  File \"C:\\Users\\Fab\\Anaconda3bis\\lib\\site-packages\\ipykernel_launcher.py\", line 16, in <module>\n",
      "    app.launch_new_instance()\n",
      "  File \"C:\\Users\\Fab\\Anaconda3bis\\lib\\site-packages\\traitlets\\config\\application.py\", line 658, in launch_instance\n",
      "    app.start()\n",
      "  File \"C:\\Users\\Fab\\Anaconda3bis\\lib\\site-packages\\ipykernel\\kernelapp.py\", line 477, in start\n",
      "    ioloop.IOLoop.instance().start()\n",
      "  File \"C:\\Users\\Fab\\Anaconda3bis\\lib\\site-packages\\zmq\\eventloop\\ioloop.py\", line 177, in start\n",
      "    super(ZMQIOLoop, self).start()\n",
      "  File \"C:\\Users\\Fab\\Anaconda3bis\\lib\\site-packages\\tornado\\ioloop.py\", line 888, in start\n",
      "    handler_func(fd_obj, events)\n",
      "  File \"C:\\Users\\Fab\\Anaconda3bis\\lib\\site-packages\\tornado\\stack_context.py\", line 277, in null_wrapper\n",
      "    return fn(*args, **kwargs)\n",
      "  File \"C:\\Users\\Fab\\Anaconda3bis\\lib\\site-packages\\zmq\\eventloop\\zmqstream.py\", line 440, in _handle_events\n",
      "    self._handle_recv()\n",
      "  File \"C:\\Users\\Fab\\Anaconda3bis\\lib\\site-packages\\zmq\\eventloop\\zmqstream.py\", line 472, in _handle_recv\n",
      "    self._run_callback(callback, msg)\n",
      "  File \"C:\\Users\\Fab\\Anaconda3bis\\lib\\site-packages\\zmq\\eventloop\\zmqstream.py\", line 414, in _run_callback\n",
      "    callback(*args, **kwargs)\n",
      "  File \"C:\\Users\\Fab\\Anaconda3bis\\lib\\site-packages\\tornado\\stack_context.py\", line 277, in null_wrapper\n",
      "    return fn(*args, **kwargs)\n",
      "  File \"C:\\Users\\Fab\\Anaconda3bis\\lib\\site-packages\\ipykernel\\kernelbase.py\", line 283, in dispatcher\n",
      "    return self.dispatch_shell(stream, msg)\n",
      "  File \"C:\\Users\\Fab\\Anaconda3bis\\lib\\site-packages\\ipykernel\\kernelbase.py\", line 235, in dispatch_shell\n",
      "    handler(stream, idents, msg)\n",
      "  File \"C:\\Users\\Fab\\Anaconda3bis\\lib\\site-packages\\ipykernel\\kernelbase.py\", line 399, in execute_request\n",
      "    user_expressions, allow_stdin)\n",
      "  File \"C:\\Users\\Fab\\Anaconda3bis\\lib\\site-packages\\ipykernel\\ipkernel.py\", line 196, in do_execute\n",
      "    res = shell.run_cell(code, store_history=store_history, silent=silent)\n",
      "  File \"C:\\Users\\Fab\\Anaconda3bis\\lib\\site-packages\\ipykernel\\zmqshell.py\", line 533, in run_cell\n",
      "    return super(ZMQInteractiveShell, self).run_cell(*args, **kwargs)\n",
      "  File \"C:\\Users\\Fab\\Anaconda3bis\\lib\\site-packages\\IPython\\core\\interactiveshell.py\", line 2698, in run_cell\n",
      "    interactivity=interactivity, compiler=compiler, result=result)\n",
      "  File \"C:\\Users\\Fab\\Anaconda3bis\\lib\\site-packages\\IPython\\core\\interactiveshell.py\", line 2802, in run_ast_nodes\n",
      "    if self.run_code(code, result):\n",
      "  File \"C:\\Users\\Fab\\Anaconda3bis\\lib\\site-packages\\IPython\\core\\interactiveshell.py\", line 2862, in run_code\n",
      "    exec(code_obj, self.user_global_ns, self.user_ns)\n",
      "  File \"<ipython-input-1-3711102ab3a0>\", line 6, in <module>\n",
      "    get_ipython().magic('matplotlib inline')\n",
      "  File \"C:\\Users\\Fab\\Anaconda3bis\\lib\\site-packages\\IPython\\core\\interactiveshell.py\", line 2146, in magic\n",
      "    return self.run_line_magic(magic_name, magic_arg_s)\n",
      "  File \"C:\\Users\\Fab\\Anaconda3bis\\lib\\site-packages\\IPython\\core\\interactiveshell.py\", line 2067, in run_line_magic\n",
      "    result = fn(*args,**kwargs)\n",
      "  File \"<decorator-gen-108>\", line 2, in matplotlib\n",
      "  File \"C:\\Users\\Fab\\Anaconda3bis\\lib\\site-packages\\IPython\\core\\magic.py\", line 187, in <lambda>\n",
      "    call = lambda f, *a, **k: f(*a, **k)\n",
      "  File \"C:\\Users\\Fab\\Anaconda3bis\\lib\\site-packages\\IPython\\core\\magics\\pylab.py\", line 99, in matplotlib\n",
      "    gui, backend = self.shell.enable_matplotlib(args.gui)\n",
      "  File \"C:\\Users\\Fab\\Anaconda3bis\\lib\\site-packages\\IPython\\core\\interactiveshell.py\", line 2930, in enable_matplotlib\n",
      "    pt.activate_matplotlib(backend)\n",
      "  File \"C:\\Users\\Fab\\Anaconda3bis\\lib\\site-packages\\IPython\\core\\pylabtools.py\", line 307, in activate_matplotlib\n",
      "    matplotlib.pyplot.switch_backend(backend)\n",
      "  File \"C:\\Users\\Fab\\Anaconda3bis\\lib\\site-packages\\matplotlib\\pyplot.py\", line 232, in switch_backend\n",
      "    matplotlib.use(newbackend, warn=False, force=True)\n",
      "  File \"C:\\Users\\Fab\\Anaconda3bis\\lib\\site-packages\\matplotlib\\__init__.py\", line 1305, in use\n",
      "    reload(sys.modules['matplotlib.backends'])\n",
      "  File \"C:\\Users\\Fab\\Anaconda3bis\\lib\\importlib\\__init__.py\", line 166, in reload\n",
      "    _bootstrap._exec(spec, module)\n",
      "  File \"C:\\Users\\Fab\\Anaconda3bis\\lib\\site-packages\\matplotlib\\backends\\__init__.py\", line 14, in <module>\n",
      "    line for line in traceback.format_stack()\n",
      "\n",
      "\n",
      "  matplotlib.use('TkAgg')\n",
      "..\\lmtanalysis\\Event.py:13: UserWarning: \n",
      "This call to matplotlib.use() has no effect because the backend has already\n",
      "been chosen; matplotlib.use() must be called *before* pylab, matplotlib.pyplot,\n",
      "or matplotlib.backends is imported for the first time.\n",
      "\n",
      "The backend was *originally* set to 'module://ipykernel.pylab.backend_inline' by the following code:\n",
      "  File \"C:\\Users\\Fab\\Anaconda3bis\\lib\\runpy.py\", line 193, in _run_module_as_main\n",
      "    \"__main__\", mod_spec)\n",
      "  File \"C:\\Users\\Fab\\Anaconda3bis\\lib\\runpy.py\", line 85, in _run_code\n",
      "    exec(code, run_globals)\n",
      "  File \"C:\\Users\\Fab\\Anaconda3bis\\lib\\site-packages\\ipykernel_launcher.py\", line 16, in <module>\n",
      "    app.launch_new_instance()\n",
      "  File \"C:\\Users\\Fab\\Anaconda3bis\\lib\\site-packages\\traitlets\\config\\application.py\", line 658, in launch_instance\n",
      "    app.start()\n",
      "  File \"C:\\Users\\Fab\\Anaconda3bis\\lib\\site-packages\\ipykernel\\kernelapp.py\", line 477, in start\n",
      "    ioloop.IOLoop.instance().start()\n",
      "  File \"C:\\Users\\Fab\\Anaconda3bis\\lib\\site-packages\\zmq\\eventloop\\ioloop.py\", line 177, in start\n",
      "    super(ZMQIOLoop, self).start()\n",
      "  File \"C:\\Users\\Fab\\Anaconda3bis\\lib\\site-packages\\tornado\\ioloop.py\", line 888, in start\n",
      "    handler_func(fd_obj, events)\n",
      "  File \"C:\\Users\\Fab\\Anaconda3bis\\lib\\site-packages\\tornado\\stack_context.py\", line 277, in null_wrapper\n",
      "    return fn(*args, **kwargs)\n",
      "  File \"C:\\Users\\Fab\\Anaconda3bis\\lib\\site-packages\\zmq\\eventloop\\zmqstream.py\", line 440, in _handle_events\n",
      "    self._handle_recv()\n",
      "  File \"C:\\Users\\Fab\\Anaconda3bis\\lib\\site-packages\\zmq\\eventloop\\zmqstream.py\", line 472, in _handle_recv\n",
      "    self._run_callback(callback, msg)\n",
      "  File \"C:\\Users\\Fab\\Anaconda3bis\\lib\\site-packages\\zmq\\eventloop\\zmqstream.py\", line 414, in _run_callback\n",
      "    callback(*args, **kwargs)\n",
      "  File \"C:\\Users\\Fab\\Anaconda3bis\\lib\\site-packages\\tornado\\stack_context.py\", line 277, in null_wrapper\n",
      "    return fn(*args, **kwargs)\n",
      "  File \"C:\\Users\\Fab\\Anaconda3bis\\lib\\site-packages\\ipykernel\\kernelbase.py\", line 283, in dispatcher\n",
      "    return self.dispatch_shell(stream, msg)\n",
      "  File \"C:\\Users\\Fab\\Anaconda3bis\\lib\\site-packages\\ipykernel\\kernelbase.py\", line 235, in dispatch_shell\n",
      "    handler(stream, idents, msg)\n",
      "  File \"C:\\Users\\Fab\\Anaconda3bis\\lib\\site-packages\\ipykernel\\kernelbase.py\", line 399, in execute_request\n",
      "    user_expressions, allow_stdin)\n",
      "  File \"C:\\Users\\Fab\\Anaconda3bis\\lib\\site-packages\\ipykernel\\ipkernel.py\", line 196, in do_execute\n",
      "    res = shell.run_cell(code, store_history=store_history, silent=silent)\n",
      "  File \"C:\\Users\\Fab\\Anaconda3bis\\lib\\site-packages\\ipykernel\\zmqshell.py\", line 533, in run_cell\n",
      "    return super(ZMQInteractiveShell, self).run_cell(*args, **kwargs)\n",
      "  File \"C:\\Users\\Fab\\Anaconda3bis\\lib\\site-packages\\IPython\\core\\interactiveshell.py\", line 2698, in run_cell\n",
      "    interactivity=interactivity, compiler=compiler, result=result)\n",
      "  File \"C:\\Users\\Fab\\Anaconda3bis\\lib\\site-packages\\IPython\\core\\interactiveshell.py\", line 2802, in run_ast_nodes\n",
      "    if self.run_code(code, result):\n",
      "  File \"C:\\Users\\Fab\\Anaconda3bis\\lib\\site-packages\\IPython\\core\\interactiveshell.py\", line 2862, in run_code\n",
      "    exec(code_obj, self.user_global_ns, self.user_ns)\n",
      "  File \"<ipython-input-1-3711102ab3a0>\", line 6, in <module>\n",
      "    get_ipython().magic('matplotlib inline')\n",
      "  File \"C:\\Users\\Fab\\Anaconda3bis\\lib\\site-packages\\IPython\\core\\interactiveshell.py\", line 2146, in magic\n",
      "    return self.run_line_magic(magic_name, magic_arg_s)\n",
      "  File \"C:\\Users\\Fab\\Anaconda3bis\\lib\\site-packages\\IPython\\core\\interactiveshell.py\", line 2067, in run_line_magic\n",
      "    result = fn(*args,**kwargs)\n",
      "  File \"<decorator-gen-108>\", line 2, in matplotlib\n",
      "  File \"C:\\Users\\Fab\\Anaconda3bis\\lib\\site-packages\\IPython\\core\\magic.py\", line 187, in <lambda>\n",
      "    call = lambda f, *a, **k: f(*a, **k)\n",
      "  File \"C:\\Users\\Fab\\Anaconda3bis\\lib\\site-packages\\IPython\\core\\magics\\pylab.py\", line 99, in matplotlib\n",
      "    gui, backend = self.shell.enable_matplotlib(args.gui)\n",
      "  File \"C:\\Users\\Fab\\Anaconda3bis\\lib\\site-packages\\IPython\\core\\interactiveshell.py\", line 2930, in enable_matplotlib\n",
      "    pt.activate_matplotlib(backend)\n",
      "  File \"C:\\Users\\Fab\\Anaconda3bis\\lib\\site-packages\\IPython\\core\\pylabtools.py\", line 307, in activate_matplotlib\n",
      "    matplotlib.pyplot.switch_backend(backend)\n",
      "  File \"C:\\Users\\Fab\\Anaconda3bis\\lib\\site-packages\\matplotlib\\pyplot.py\", line 232, in switch_backend\n",
      "    matplotlib.use(newbackend, warn=False, force=True)\n",
      "  File \"C:\\Users\\Fab\\Anaconda3bis\\lib\\site-packages\\matplotlib\\__init__.py\", line 1305, in use\n",
      "    reload(sys.modules['matplotlib.backends'])\n",
      "  File \"C:\\Users\\Fab\\Anaconda3bis\\lib\\importlib\\__init__.py\", line 166, in reload\n",
      "    _bootstrap._exec(spec, module)\n",
      "  File \"C:\\Users\\Fab\\Anaconda3bis\\lib\\site-packages\\matplotlib\\backends\\__init__.py\", line 14, in <module>\n",
      "    line for line in traceback.format_stack()\n",
      "\n",
      "\n",
      "  matplotlib.use('TkAgg')\n",
      "..\\lmtanalysis\\Mask.py:13: UserWarning: \n",
      "This call to matplotlib.use() has no effect because the backend has already\n",
      "been chosen; matplotlib.use() must be called *before* pylab, matplotlib.pyplot,\n",
      "or matplotlib.backends is imported for the first time.\n",
      "\n",
      "The backend was *originally* set to 'module://ipykernel.pylab.backend_inline' by the following code:\n",
      "  File \"C:\\Users\\Fab\\Anaconda3bis\\lib\\runpy.py\", line 193, in _run_module_as_main\n",
      "    \"__main__\", mod_spec)\n",
      "  File \"C:\\Users\\Fab\\Anaconda3bis\\lib\\runpy.py\", line 85, in _run_code\n",
      "    exec(code, run_globals)\n",
      "  File \"C:\\Users\\Fab\\Anaconda3bis\\lib\\site-packages\\ipykernel_launcher.py\", line 16, in <module>\n",
      "    app.launch_new_instance()\n",
      "  File \"C:\\Users\\Fab\\Anaconda3bis\\lib\\site-packages\\traitlets\\config\\application.py\", line 658, in launch_instance\n",
      "    app.start()\n",
      "  File \"C:\\Users\\Fab\\Anaconda3bis\\lib\\site-packages\\ipykernel\\kernelapp.py\", line 477, in start\n",
      "    ioloop.IOLoop.instance().start()\n",
      "  File \"C:\\Users\\Fab\\Anaconda3bis\\lib\\site-packages\\zmq\\eventloop\\ioloop.py\", line 177, in start\n",
      "    super(ZMQIOLoop, self).start()\n",
      "  File \"C:\\Users\\Fab\\Anaconda3bis\\lib\\site-packages\\tornado\\ioloop.py\", line 888, in start\n",
      "    handler_func(fd_obj, events)\n",
      "  File \"C:\\Users\\Fab\\Anaconda3bis\\lib\\site-packages\\tornado\\stack_context.py\", line 277, in null_wrapper\n",
      "    return fn(*args, **kwargs)\n",
      "  File \"C:\\Users\\Fab\\Anaconda3bis\\lib\\site-packages\\zmq\\eventloop\\zmqstream.py\", line 440, in _handle_events\n",
      "    self._handle_recv()\n",
      "  File \"C:\\Users\\Fab\\Anaconda3bis\\lib\\site-packages\\zmq\\eventloop\\zmqstream.py\", line 472, in _handle_recv\n",
      "    self._run_callback(callback, msg)\n",
      "  File \"C:\\Users\\Fab\\Anaconda3bis\\lib\\site-packages\\zmq\\eventloop\\zmqstream.py\", line 414, in _run_callback\n",
      "    callback(*args, **kwargs)\n",
      "  File \"C:\\Users\\Fab\\Anaconda3bis\\lib\\site-packages\\tornado\\stack_context.py\", line 277, in null_wrapper\n",
      "    return fn(*args, **kwargs)\n",
      "  File \"C:\\Users\\Fab\\Anaconda3bis\\lib\\site-packages\\ipykernel\\kernelbase.py\", line 283, in dispatcher\n",
      "    return self.dispatch_shell(stream, msg)\n",
      "  File \"C:\\Users\\Fab\\Anaconda3bis\\lib\\site-packages\\ipykernel\\kernelbase.py\", line 235, in dispatch_shell\n",
      "    handler(stream, idents, msg)\n",
      "  File \"C:\\Users\\Fab\\Anaconda3bis\\lib\\site-packages\\ipykernel\\kernelbase.py\", line 399, in execute_request\n",
      "    user_expressions, allow_stdin)\n",
      "  File \"C:\\Users\\Fab\\Anaconda3bis\\lib\\site-packages\\ipykernel\\ipkernel.py\", line 196, in do_execute\n",
      "    res = shell.run_cell(code, store_history=store_history, silent=silent)\n",
      "  File \"C:\\Users\\Fab\\Anaconda3bis\\lib\\site-packages\\ipykernel\\zmqshell.py\", line 533, in run_cell\n",
      "    return super(ZMQInteractiveShell, self).run_cell(*args, **kwargs)\n",
      "  File \"C:\\Users\\Fab\\Anaconda3bis\\lib\\site-packages\\IPython\\core\\interactiveshell.py\", line 2698, in run_cell\n",
      "    interactivity=interactivity, compiler=compiler, result=result)\n",
      "  File \"C:\\Users\\Fab\\Anaconda3bis\\lib\\site-packages\\IPython\\core\\interactiveshell.py\", line 2802, in run_ast_nodes\n",
      "    if self.run_code(code, result):\n",
      "  File \"C:\\Users\\Fab\\Anaconda3bis\\lib\\site-packages\\IPython\\core\\interactiveshell.py\", line 2862, in run_code\n",
      "    exec(code_obj, self.user_global_ns, self.user_ns)\n",
      "  File \"<ipython-input-1-3711102ab3a0>\", line 6, in <module>\n",
      "    get_ipython().magic('matplotlib inline')\n",
      "  File \"C:\\Users\\Fab\\Anaconda3bis\\lib\\site-packages\\IPython\\core\\interactiveshell.py\", line 2146, in magic\n",
      "    return self.run_line_magic(magic_name, magic_arg_s)\n",
      "  File \"C:\\Users\\Fab\\Anaconda3bis\\lib\\site-packages\\IPython\\core\\interactiveshell.py\", line 2067, in run_line_magic\n",
      "    result = fn(*args,**kwargs)\n",
      "  File \"<decorator-gen-108>\", line 2, in matplotlib\n",
      "  File \"C:\\Users\\Fab\\Anaconda3bis\\lib\\site-packages\\IPython\\core\\magic.py\", line 187, in <lambda>\n",
      "    call = lambda f, *a, **k: f(*a, **k)\n",
      "  File \"C:\\Users\\Fab\\Anaconda3bis\\lib\\site-packages\\IPython\\core\\magics\\pylab.py\", line 99, in matplotlib\n",
      "    gui, backend = self.shell.enable_matplotlib(args.gui)\n",
      "  File \"C:\\Users\\Fab\\Anaconda3bis\\lib\\site-packages\\IPython\\core\\interactiveshell.py\", line 2930, in enable_matplotlib\n",
      "    pt.activate_matplotlib(backend)\n",
      "  File \"C:\\Users\\Fab\\Anaconda3bis\\lib\\site-packages\\IPython\\core\\pylabtools.py\", line 307, in activate_matplotlib\n",
      "    matplotlib.pyplot.switch_backend(backend)\n",
      "  File \"C:\\Users\\Fab\\Anaconda3bis\\lib\\site-packages\\matplotlib\\pyplot.py\", line 232, in switch_backend\n",
      "    matplotlib.use(newbackend, warn=False, force=True)\n",
      "  File \"C:\\Users\\Fab\\Anaconda3bis\\lib\\site-packages\\matplotlib\\__init__.py\", line 1305, in use\n",
      "    reload(sys.modules['matplotlib.backends'])\n",
      "  File \"C:\\Users\\Fab\\Anaconda3bis\\lib\\importlib\\__init__.py\", line 166, in reload\n",
      "    _bootstrap._exec(spec, module)\n",
      "  File \"C:\\Users\\Fab\\Anaconda3bis\\lib\\site-packages\\matplotlib\\backends\\__init__.py\", line 14, in <module>\n",
      "    line for line in traceback.format_stack()\n",
      "\n",
      "\n",
      "  matplotlib.use('TkAgg')\n"
     ]
    }
   ],
   "source": [
    "'''\n",
    "Created on 15 fev. 2019\n",
    "\n",
    "@author: Fab\n",
    "'''\n",
    "%matplotlib inline\n",
    "\n",
    "import sys\n",
    "sys.path.insert(1, \"../\")\n",
    "\n",
    "\n",
    "import pandas as pd\n",
    "import numpy as np\n",
    "\n",
    "import sqlite3\n",
    "from lmtanalysis.FileUtil import getFilesToProcess\n",
    "\n",
    "from lmtanalysis.Animal import AnimalPool\n",
    "from lmtanalysis.Animal import Animal\n",
    "from lmtanalysis.Measure import *\n",
    "from lmtanalysis.Event import EventTimeLine, plotMultipleTimeLine\n",
    "\n",
    "from lmtanalysis.Util import convert_to_d_h_m_s\n",
    "from lmtanalysis.Util import d_h_m_s_toText\n",
    "\n",
    "from lmtanalysis.Measure import oneDay\n",
    "\n",
    "# widgets\n",
    "\n",
    "import ipywidgets as widgets\n",
    "from IPython.display import display\n",
    "from IPython.core.display import HTML"
   ]
  },
  {
   "cell_type": "markdown",
   "metadata": {},
   "source": [
    "## Ask file to process to the user with a dialog window:\n",
    "* note: You can run this step only once, and then keep processing the file(s) with the next cells.\n",
    "* note2: the file window can be hidden by other windows."
   ]
  },
  {
   "cell_type": "code",
   "execution_count": 2,
   "metadata": {
    "collapsed": true,
    "scrolled": true
   },
   "outputs": [],
   "source": [
    "#ask the user for database to process\n",
    "files = getFilesToProcess()"
   ]
  },
  {
   "cell_type": "markdown",
   "metadata": {
    "collapsed": true
   },
   "source": [
    "## Grab all events and animals available, and create widgets with it.\n",
    "* We create a widget with all events available\n",
    "* We create a widget with all the animals available"
   ]
  },
  {
   "cell_type": "code",
   "execution_count": 3,
   "metadata": {},
   "outputs": [
    {
     "name": "stdout",
     "output_type": "stream",
     "text": [
      "Loading events...\n",
      "Loading animals.\n",
      "Fields available in lmtanalysis:  ['ID', 'RFID', 'GENOTYPE', 'NAME']\n",
      "SQL Query: SELECT ID,RFID,NAME,GENOTYPE FROM ANIMAL ORDER BY GENOTYPE\n",
      "Animal Id:1 Name:A RFID:000004395862 Genotype:None User1:None\n",
      "Animal Id:2 Name:B RFID:000004395854 Genotype:None User1:None\n",
      "Animal Id:3 Name:C RFID:000004396001 Genotype:None User1:None\n",
      "Animal Id:4 Name:D RFID:000004395671 Genotype:None User1:None\n"
     ]
    },
    {
     "data": {
      "application/vnd.jupyter.widget-view+json": {
       "model_id": "73a0ca3daecb4b05874ab498001e1df8",
       "version_major": 2,
       "version_minor": 0
      },
      "text/plain": [
       "A Jupyter Widget"
      ]
     },
     "metadata": {},
     "output_type": "display_data"
    },
    {
     "data": {
      "application/vnd.jupyter.widget-view+json": {
       "model_id": "77515304dbc24cc7bac91ad0095491d9",
       "version_major": 2,
       "version_minor": 0
      },
      "text/plain": [
       "A Jupyter Widget"
      ]
     },
     "metadata": {},
     "output_type": "display_data"
    },
    {
     "data": {
      "application/vnd.jupyter.widget-view+json": {
       "model_id": "2c1751a5d66e4c52916e5c9063d8b479",
       "version_major": 2,
       "version_minor": 0
      },
      "text/plain": [
       "A Jupyter Widget"
      ]
     },
     "metadata": {},
     "output_type": "display_data"
    },
    {
     "data": {
      "application/vnd.jupyter.widget-view+json": {
       "model_id": "173915ecc35745b6b87524c8ca57b43e",
       "version_major": 2,
       "version_minor": 0
      },
      "text/plain": [
       "A Jupyter Widget"
      ]
     },
     "metadata": {},
     "output_type": "display_data"
    },
    {
     "data": {
      "application/vnd.jupyter.widget-view+json": {
       "model_id": "3ffb8b64a5984b28bf4c4f57cde3732c",
       "version_major": 2,
       "version_minor": 0
      },
      "text/plain": [
       "A Jupyter Widget"
      ]
     },
     "metadata": {},
     "output_type": "display_data"
    },
    {
     "data": {
      "application/vnd.jupyter.widget-view+json": {
       "model_id": "47d4016f106b4c6daa6613d58950e5e9",
       "version_major": 2,
       "version_minor": 0
      },
      "text/plain": [
       "A Jupyter Widget"
      ]
     },
     "metadata": {},
     "output_type": "display_data"
    },
    {
     "data": {
      "application/vnd.jupyter.widget-view+json": {
       "model_id": "d45da6b98f634950a02ed6610c86402f",
       "version_major": 2,
       "version_minor": 0
      },
      "text/plain": [
       "A Jupyter Widget"
      ]
     },
     "metadata": {},
     "output_type": "display_data"
    }
   ],
   "source": [
    "\n",
    "def getAllEvents( file ):\n",
    "    print( \"Loading events...\")\n",
    "    connection = sqlite3.connect( file )\n",
    "    query = \"select name from event group by name\"\n",
    "    c = connection.cursor()     \n",
    "    c.execute( query )    \n",
    "    all_rows = c.fetchall()        \n",
    "    header = [ \"Name\" ]\n",
    "    data =[]    \n",
    "    for row in all_rows:\n",
    "        data.append( row[0] )\n",
    "    return data\n",
    "\n",
    "\n",
    "file = files[0]\n",
    "eventList = getAllEvents( file )\n",
    "\n",
    "connection = sqlite3.connect( file )\n",
    "animalPool = AnimalPool()\n",
    "animalPool.loadAnimals( connection )\n",
    "\n",
    "\n",
    "animalIdList = []\n",
    "animalIdList.append( \"Any animal\" )\n",
    "for animalKey in animalPool.getAnimalDictionnary():\n",
    "    animal = animalPool.getAnimalDictionnary()[animalKey]\n",
    "    animalIdList.append( animal )\n",
    "    \n",
    "\n",
    "eventWidget = widgets.Dropdown(\n",
    "    options=eventList,    \n",
    "    description='Event name:',\n",
    "    disabled=False,\n",
    ")\n",
    "\n",
    "animalWidget = {}\n",
    "animalWidget['A'] = widgets.Dropdown( options=animalIdList, description='Animal A:' )\n",
    "animalWidget['B'] = widgets.Dropdown( options=animalIdList, description='Animal B:' )\n",
    "animalWidget['C'] = widgets.Dropdown( options=animalIdList, description='Animal C:' )\n",
    "animalWidget['D'] = widgets.Dropdown( options=animalIdList, description='Animal D:' )\n",
    "\n",
    "display( eventWidget )\n",
    "display( animalWidget['A'] )\n",
    "display( animalWidget['B'] )\n",
    "display( animalWidget['C'] )\n",
    "display( animalWidget['D'] )\n",
    "\n",
    "startFrameWidget = widgets.IntText( value=0, description='Start time (in frame):' )\n",
    "endFrameWidget = widgets.IntText( value= oneDay, description='End time (in frame):' )\n",
    "display( startFrameWidget , endFrameWidget )\n"
   ]
  },
  {
   "cell_type": "markdown",
   "metadata": {},
   "source": [
    "# Provide a result with selected event and animals"
   ]
  },
  {
   "cell_type": "code",
   "execution_count": 5,
   "metadata": {
    "scrolled": true
   },
   "outputs": [
    {
     "name": "stdout",
     "output_type": "stream",
     "text": [
      "Event selected:  Social approach\n",
      "Animal A:  Animal Id:1 Name:A RFID:000004395862 Genotype:None User1:None\n",
      "Animal B:  Animal Id:2 Name:B RFID:000004395854 Genotype:None User1:None\n",
      "Animal C:  Any animal\n",
      "Animal D:  Any animal\n",
      "Start time:  0 days 0 hours 0 minutes 0 seconds 0 frames\n",
      "End time:  1 days 0 hours 0 minutes 0 seconds 0 frames\n",
      "Social approach  Id( 1 , 2 , None , None ) Loaded ( 244  records loaded in  0.07599925994873047 S )\n"
     ]
    },
    {
     "data": {
      "text/html": [
       "<font color=black><h1>Social approach Id(1,2,None,None)</h1></font>"
      ],
      "text/plain": [
       "<IPython.core.display.HTML object>"
      ]
     },
     "metadata": {},
     "output_type": "display_data"
    },
    {
     "data": {
      "text/html": [
       "<font color=red><h1>Number of events : 244</h1></font>"
      ],
      "text/plain": [
       "<IPython.core.display.HTML object>"
      ]
     },
     "metadata": {},
     "output_type": "display_data"
    },
    {
     "data": {
      "text/html": [
       "<div>\n",
       "<style>\n",
       "    .dataframe thead tr:only-child th {\n",
       "        text-align: right;\n",
       "    }\n",
       "\n",
       "    .dataframe thead th {\n",
       "        text-align: left;\n",
       "    }\n",
       "\n",
       "    .dataframe tbody tr th {\n",
       "        vertical-align: top;\n",
       "    }\n",
       "</style>\n",
       "<table border=\"1\" class=\"dataframe\">\n",
       "  <thead>\n",
       "    <tr style=\"text-align: right;\">\n",
       "      <th></th>\n",
       "      <th>Start frame</th>\n",
       "      <th>End frame</th>\n",
       "      <th>Duration (in frame)</th>\n",
       "    </tr>\n",
       "  </thead>\n",
       "  <tbody>\n",
       "    <tr>\n",
       "      <th>0</th>\n",
       "      <td>181</td>\n",
       "      <td>188</td>\n",
       "      <td>8</td>\n",
       "    </tr>\n",
       "    <tr>\n",
       "      <th>1</th>\n",
       "      <td>520</td>\n",
       "      <td>523</td>\n",
       "      <td>4</td>\n",
       "    </tr>\n",
       "    <tr>\n",
       "      <th>2</th>\n",
       "      <td>528</td>\n",
       "      <td>550</td>\n",
       "      <td>23</td>\n",
       "    </tr>\n",
       "    <tr>\n",
       "      <th>3</th>\n",
       "      <td>669</td>\n",
       "      <td>687</td>\n",
       "      <td>19</td>\n",
       "    </tr>\n",
       "    <tr>\n",
       "      <th>4</th>\n",
       "      <td>689</td>\n",
       "      <td>689</td>\n",
       "      <td>1</td>\n",
       "    </tr>\n",
       "    <tr>\n",
       "      <th>5</th>\n",
       "      <td>705</td>\n",
       "      <td>723</td>\n",
       "      <td>19</td>\n",
       "    </tr>\n",
       "    <tr>\n",
       "      <th>6</th>\n",
       "      <td>1224</td>\n",
       "      <td>1236</td>\n",
       "      <td>13</td>\n",
       "    </tr>\n",
       "    <tr>\n",
       "      <th>7</th>\n",
       "      <td>1841</td>\n",
       "      <td>1842</td>\n",
       "      <td>2</td>\n",
       "    </tr>\n",
       "    <tr>\n",
       "      <th>8</th>\n",
       "      <td>1853</td>\n",
       "      <td>1853</td>\n",
       "      <td>1</td>\n",
       "    </tr>\n",
       "    <tr>\n",
       "      <th>9</th>\n",
       "      <td>1859</td>\n",
       "      <td>1870</td>\n",
       "      <td>12</td>\n",
       "    </tr>\n",
       "    <tr>\n",
       "      <th>10</th>\n",
       "      <td>2083</td>\n",
       "      <td>2084</td>\n",
       "      <td>2</td>\n",
       "    </tr>\n",
       "    <tr>\n",
       "      <th>11</th>\n",
       "      <td>2086</td>\n",
       "      <td>2086</td>\n",
       "      <td>1</td>\n",
       "    </tr>\n",
       "    <tr>\n",
       "      <th>12</th>\n",
       "      <td>2089</td>\n",
       "      <td>2090</td>\n",
       "      <td>2</td>\n",
       "    </tr>\n",
       "    <tr>\n",
       "      <th>13</th>\n",
       "      <td>2280</td>\n",
       "      <td>2285</td>\n",
       "      <td>6</td>\n",
       "    </tr>\n",
       "    <tr>\n",
       "      <th>14</th>\n",
       "      <td>2543</td>\n",
       "      <td>2546</td>\n",
       "      <td>4</td>\n",
       "    </tr>\n",
       "    <tr>\n",
       "      <th>15</th>\n",
       "      <td>3242</td>\n",
       "      <td>3260</td>\n",
       "      <td>19</td>\n",
       "    </tr>\n",
       "    <tr>\n",
       "      <th>16</th>\n",
       "      <td>3698</td>\n",
       "      <td>3712</td>\n",
       "      <td>15</td>\n",
       "    </tr>\n",
       "    <tr>\n",
       "      <th>17</th>\n",
       "      <td>4042</td>\n",
       "      <td>4043</td>\n",
       "      <td>2</td>\n",
       "    </tr>\n",
       "    <tr>\n",
       "      <th>18</th>\n",
       "      <td>4067</td>\n",
       "      <td>4068</td>\n",
       "      <td>2</td>\n",
       "    </tr>\n",
       "    <tr>\n",
       "      <th>19</th>\n",
       "      <td>4070</td>\n",
       "      <td>4070</td>\n",
       "      <td>1</td>\n",
       "    </tr>\n",
       "    <tr>\n",
       "      <th>20</th>\n",
       "      <td>4074</td>\n",
       "      <td>4074</td>\n",
       "      <td>1</td>\n",
       "    </tr>\n",
       "    <tr>\n",
       "      <th>21</th>\n",
       "      <td>4076</td>\n",
       "      <td>4076</td>\n",
       "      <td>1</td>\n",
       "    </tr>\n",
       "    <tr>\n",
       "      <th>22</th>\n",
       "      <td>4460</td>\n",
       "      <td>4497</td>\n",
       "      <td>38</td>\n",
       "    </tr>\n",
       "    <tr>\n",
       "      <th>23</th>\n",
       "      <td>4512</td>\n",
       "      <td>4512</td>\n",
       "      <td>1</td>\n",
       "    </tr>\n",
       "    <tr>\n",
       "      <th>24</th>\n",
       "      <td>4519</td>\n",
       "      <td>4525</td>\n",
       "      <td>7</td>\n",
       "    </tr>\n",
       "    <tr>\n",
       "      <th>25</th>\n",
       "      <td>4529</td>\n",
       "      <td>4540</td>\n",
       "      <td>12</td>\n",
       "    </tr>\n",
       "    <tr>\n",
       "      <th>26</th>\n",
       "      <td>4657</td>\n",
       "      <td>4659</td>\n",
       "      <td>3</td>\n",
       "    </tr>\n",
       "    <tr>\n",
       "      <th>27</th>\n",
       "      <td>4827</td>\n",
       "      <td>4834</td>\n",
       "      <td>8</td>\n",
       "    </tr>\n",
       "    <tr>\n",
       "      <th>28</th>\n",
       "      <td>5543</td>\n",
       "      <td>5548</td>\n",
       "      <td>6</td>\n",
       "    </tr>\n",
       "    <tr>\n",
       "      <th>29</th>\n",
       "      <td>5809</td>\n",
       "      <td>5813</td>\n",
       "      <td>5</td>\n",
       "    </tr>\n",
       "    <tr>\n",
       "      <th>...</th>\n",
       "      <td>...</td>\n",
       "      <td>...</td>\n",
       "      <td>...</td>\n",
       "    </tr>\n",
       "    <tr>\n",
       "      <th>214</th>\n",
       "      <td>22310</td>\n",
       "      <td>22310</td>\n",
       "      <td>1</td>\n",
       "    </tr>\n",
       "    <tr>\n",
       "      <th>215</th>\n",
       "      <td>22312</td>\n",
       "      <td>22322</td>\n",
       "      <td>11</td>\n",
       "    </tr>\n",
       "    <tr>\n",
       "      <th>216</th>\n",
       "      <td>22336</td>\n",
       "      <td>22337</td>\n",
       "      <td>2</td>\n",
       "    </tr>\n",
       "    <tr>\n",
       "      <th>217</th>\n",
       "      <td>22345</td>\n",
       "      <td>22346</td>\n",
       "      <td>2</td>\n",
       "    </tr>\n",
       "    <tr>\n",
       "      <th>218</th>\n",
       "      <td>22489</td>\n",
       "      <td>22490</td>\n",
       "      <td>2</td>\n",
       "    </tr>\n",
       "    <tr>\n",
       "      <th>219</th>\n",
       "      <td>22493</td>\n",
       "      <td>22521</td>\n",
       "      <td>29</td>\n",
       "    </tr>\n",
       "    <tr>\n",
       "      <th>220</th>\n",
       "      <td>22530</td>\n",
       "      <td>22531</td>\n",
       "      <td>2</td>\n",
       "    </tr>\n",
       "    <tr>\n",
       "      <th>221</th>\n",
       "      <td>22539</td>\n",
       "      <td>22545</td>\n",
       "      <td>7</td>\n",
       "    </tr>\n",
       "    <tr>\n",
       "      <th>222</th>\n",
       "      <td>22553</td>\n",
       "      <td>22554</td>\n",
       "      <td>2</td>\n",
       "    </tr>\n",
       "    <tr>\n",
       "      <th>223</th>\n",
       "      <td>22586</td>\n",
       "      <td>22598</td>\n",
       "      <td>13</td>\n",
       "    </tr>\n",
       "    <tr>\n",
       "      <th>224</th>\n",
       "      <td>22618</td>\n",
       "      <td>22625</td>\n",
       "      <td>8</td>\n",
       "    </tr>\n",
       "    <tr>\n",
       "      <th>225</th>\n",
       "      <td>22701</td>\n",
       "      <td>22701</td>\n",
       "      <td>1</td>\n",
       "    </tr>\n",
       "    <tr>\n",
       "      <th>226</th>\n",
       "      <td>22707</td>\n",
       "      <td>22712</td>\n",
       "      <td>6</td>\n",
       "    </tr>\n",
       "    <tr>\n",
       "      <th>227</th>\n",
       "      <td>22722</td>\n",
       "      <td>22735</td>\n",
       "      <td>14</td>\n",
       "    </tr>\n",
       "    <tr>\n",
       "      <th>228</th>\n",
       "      <td>22747</td>\n",
       "      <td>22747</td>\n",
       "      <td>1</td>\n",
       "    </tr>\n",
       "    <tr>\n",
       "      <th>229</th>\n",
       "      <td>22749</td>\n",
       "      <td>22754</td>\n",
       "      <td>6</td>\n",
       "    </tr>\n",
       "    <tr>\n",
       "      <th>230</th>\n",
       "      <td>22756</td>\n",
       "      <td>22758</td>\n",
       "      <td>3</td>\n",
       "    </tr>\n",
       "    <tr>\n",
       "      <th>231</th>\n",
       "      <td>22763</td>\n",
       "      <td>22764</td>\n",
       "      <td>2</td>\n",
       "    </tr>\n",
       "    <tr>\n",
       "      <th>232</th>\n",
       "      <td>22922</td>\n",
       "      <td>22952</td>\n",
       "      <td>31</td>\n",
       "    </tr>\n",
       "    <tr>\n",
       "      <th>233</th>\n",
       "      <td>22979</td>\n",
       "      <td>22986</td>\n",
       "      <td>8</td>\n",
       "    </tr>\n",
       "    <tr>\n",
       "      <th>234</th>\n",
       "      <td>23007</td>\n",
       "      <td>23010</td>\n",
       "      <td>4</td>\n",
       "    </tr>\n",
       "    <tr>\n",
       "      <th>235</th>\n",
       "      <td>23232</td>\n",
       "      <td>23248</td>\n",
       "      <td>17</td>\n",
       "    </tr>\n",
       "    <tr>\n",
       "      <th>236</th>\n",
       "      <td>23255</td>\n",
       "      <td>23255</td>\n",
       "      <td>1</td>\n",
       "    </tr>\n",
       "    <tr>\n",
       "      <th>237</th>\n",
       "      <td>23260</td>\n",
       "      <td>23274</td>\n",
       "      <td>15</td>\n",
       "    </tr>\n",
       "    <tr>\n",
       "      <th>238</th>\n",
       "      <td>23693</td>\n",
       "      <td>23704</td>\n",
       "      <td>12</td>\n",
       "    </tr>\n",
       "    <tr>\n",
       "      <th>239</th>\n",
       "      <td>23714</td>\n",
       "      <td>23723</td>\n",
       "      <td>10</td>\n",
       "    </tr>\n",
       "    <tr>\n",
       "      <th>240</th>\n",
       "      <td>23726</td>\n",
       "      <td>23726</td>\n",
       "      <td>1</td>\n",
       "    </tr>\n",
       "    <tr>\n",
       "      <th>241</th>\n",
       "      <td>23737</td>\n",
       "      <td>23737</td>\n",
       "      <td>1</td>\n",
       "    </tr>\n",
       "    <tr>\n",
       "      <th>242</th>\n",
       "      <td>23739</td>\n",
       "      <td>23740</td>\n",
       "      <td>2</td>\n",
       "    </tr>\n",
       "    <tr>\n",
       "      <th>243</th>\n",
       "      <td>23759</td>\n",
       "      <td>23759</td>\n",
       "      <td>1</td>\n",
       "    </tr>\n",
       "  </tbody>\n",
       "</table>\n",
       "<p>244 rows × 3 columns</p>\n",
       "</div>"
      ],
      "text/plain": [
       "     Start frame  End frame  Duration (in frame)\n",
       "0            181        188                    8\n",
       "1            520        523                    4\n",
       "2            528        550                   23\n",
       "3            669        687                   19\n",
       "4            689        689                    1\n",
       "5            705        723                   19\n",
       "6           1224       1236                   13\n",
       "7           1841       1842                    2\n",
       "8           1853       1853                    1\n",
       "9           1859       1870                   12\n",
       "10          2083       2084                    2\n",
       "11          2086       2086                    1\n",
       "12          2089       2090                    2\n",
       "13          2280       2285                    6\n",
       "14          2543       2546                    4\n",
       "15          3242       3260                   19\n",
       "16          3698       3712                   15\n",
       "17          4042       4043                    2\n",
       "18          4067       4068                    2\n",
       "19          4070       4070                    1\n",
       "20          4074       4074                    1\n",
       "21          4076       4076                    1\n",
       "22          4460       4497                   38\n",
       "23          4512       4512                    1\n",
       "24          4519       4525                    7\n",
       "25          4529       4540                   12\n",
       "26          4657       4659                    3\n",
       "27          4827       4834                    8\n",
       "28          5543       5548                    6\n",
       "29          5809       5813                    5\n",
       "..           ...        ...                  ...\n",
       "214        22310      22310                    1\n",
       "215        22312      22322                   11\n",
       "216        22336      22337                    2\n",
       "217        22345      22346                    2\n",
       "218        22489      22490                    2\n",
       "219        22493      22521                   29\n",
       "220        22530      22531                    2\n",
       "221        22539      22545                    7\n",
       "222        22553      22554                    2\n",
       "223        22586      22598                   13\n",
       "224        22618      22625                    8\n",
       "225        22701      22701                    1\n",
       "226        22707      22712                    6\n",
       "227        22722      22735                   14\n",
       "228        22747      22747                    1\n",
       "229        22749      22754                    6\n",
       "230        22756      22758                    3\n",
       "231        22763      22764                    2\n",
       "232        22922      22952                   31\n",
       "233        22979      22986                    8\n",
       "234        23007      23010                    4\n",
       "235        23232      23248                   17\n",
       "236        23255      23255                    1\n",
       "237        23260      23274                   15\n",
       "238        23693      23704                   12\n",
       "239        23714      23723                   10\n",
       "240        23726      23726                    1\n",
       "241        23737      23737                    1\n",
       "242        23739      23740                    2\n",
       "243        23759      23759                    1\n",
       "\n",
       "[244 rows x 3 columns]"
      ]
     },
     "metadata": {},
     "output_type": "display_data"
    },
    {
     "data": {
      "text/html": [
       "<font color=black><h1>Distribution of duration of events:</h1></font>"
      ],
      "text/plain": [
       "<IPython.core.display.HTML object>"
      ]
     },
     "metadata": {},
     "output_type": "display_data"
    },
    {
     "data": {
      "image/png": "[encoded data removed]",
      "text/plain": [
       "<matplotlib.figure.Figure at 0x20c200d4828>"
      ]
     },
     "metadata": {},
     "output_type": "display_data"
    },
    {
     "data": {
      "text/html": [
       "<font color=black><h1>Distribution of duration of events in bins:</h1></font>"
      ],
      "text/plain": [
       "<IPython.core.display.HTML object>"
      ]
     },
     "metadata": {},
     "output_type": "display_data"
    },
    {
     "data": {
      "image/png": "[encoded data removed]",
      "text/plain": [
       "<matplotlib.figure.Figure at 0x20c3ddaaef0>"
      ]
     },
     "metadata": {},
     "output_type": "display_data"
    },
    {
     "data": {
      "text/html": [
       "<font color=black><h1>Time line of event:</h1></font>"
      ],
      "text/plain": [
       "<IPython.core.display.HTML object>"
      ]
     },
     "metadata": {},
     "output_type": "display_data"
    },
    {
     "data": {
      "image/png": "[encoded data removed]",
      "text/plain": [
       "<matplotlib.figure.Figure at 0x20c3da2e160>"
      ]
     },
     "metadata": {},
     "output_type": "display_data"
    },
    {
     "name": "stdout",
     "output_type": "stream",
     "text": [
      "Animal Id:1 Name:A RFID:000004395862 Genotype:None User1:None : Loading detection.\n",
      "SELECT FRAMENUMBER, MASS_X, MASS_Y, MASS_Z, FRONT_X, FRONT_Y, FRONT_Z, BACK_X, BACK_Y, BACK_Z,REARING,LOOK_UP,LOOK_DOWN FROM DETECTION WHERE ANIMALID=1 AND FRAMENUMBER>=0 AND FRAMENUMBER<=2592000\n",
      "Animal Id:1 Name:A RFID:000004395862 Genotype:None User1:None   23873  detections loaded in 0.6294505596160889 seconds.\n",
      "Animal Id:2 Name:B RFID:000004395854 Genotype:None User1:None : Loading detection.\n",
      "SELECT FRAMENUMBER, MASS_X, MASS_Y, MASS_Z, FRONT_X, FRONT_Y, FRONT_Z, BACK_X, BACK_Y, BACK_Z,REARING,LOOK_UP,LOOK_DOWN FROM DETECTION WHERE ANIMALID=2 AND FRAMENUMBER>=0 AND FRAMENUMBER<=2592000\n",
      "Animal Id:2 Name:B RFID:000004395854 Genotype:None User1:None   23863  detections loaded in 0.5778274536132812 seconds.\n",
      "Animal Id:3 Name:C RFID:000004396001 Genotype:None User1:None : Loading detection.\n",
      "SELECT FRAMENUMBER, MASS_X, MASS_Y, MASS_Z, FRONT_X, FRONT_Y, FRONT_Z, BACK_X, BACK_Y, BACK_Z,REARING,LOOK_UP,LOOK_DOWN FROM DETECTION WHERE ANIMALID=3 AND FRAMENUMBER>=0 AND FRAMENUMBER<=2592000\n",
      "Animal Id:3 Name:C RFID:000004396001 Genotype:None User1:None   23671  detections loaded in 0.5604138374328613 seconds.\n",
      "Animal Id:4 Name:D RFID:000004395671 Genotype:None User1:None : Loading detection.\n",
      "SELECT FRAMENUMBER, MASS_X, MASS_Y, MASS_Z, FRONT_X, FRONT_Y, FRONT_Z, BACK_X, BACK_Y, BACK_Z,REARING,LOOK_UP,LOOK_DOWN FROM DETECTION WHERE ANIMALID=4 AND FRAMENUMBER>=0 AND FRAMENUMBER<=2592000\n",
      "Animal Id:4 Name:D RFID:000004395671 Genotype:None User1:None   23864  detections loaded in 0.6119236946105957 seconds.\n",
      "Filtering area, number of detection removed: 22260\n",
      "Filtering area, number of detection removed: 22250\n",
      "Filtering area, number of detection removed: 22060\n",
      "Filtering area, number of detection removed: 22251\n"
     ]
    },
    {
     "data": {
      "text/html": [
       "<font color=green><h1>involved</h1></font>"
      ],
      "text/plain": [
       "<IPython.core.display.HTML object>"
      ]
     },
     "metadata": {},
     "output_type": "display_data"
    },
    {
     "name": "stdout",
     "output_type": "stream",
     "text": [
      "Draw trajectory of animal A\n"
     ]
    },
    {
     "data": {
      "image/png": "[encoded data removed]",
      "text/plain": [
       "<matplotlib.figure.Figure at 0x20c3ede8f28>"
      ]
     },
     "metadata": {},
     "output_type": "display_data"
    },
    {
     "data": {
      "text/html": [
       "<font color=green><h1>involved</h1></font>"
      ],
      "text/plain": [
       "<IPython.core.display.HTML object>"
      ]
     },
     "metadata": {},
     "output_type": "display_data"
    },
    {
     "name": "stdout",
     "output_type": "stream",
     "text": [
      "Draw trajectory of animal B\n"
     ]
    },
    {
     "data": {
      "image/png": "[encoded data removed]",
      "text/plain": [
       "<matplotlib.figure.Figure at 0x20c3dbc2be0>"
      ]
     },
     "metadata": {},
     "output_type": "display_data"
    },
    {
     "data": {
      "text/html": [
       "<font color=red><h1>this animal not involved in event definition</h1></font>"
      ],
      "text/plain": [
       "<IPython.core.display.HTML object>"
      ]
     },
     "metadata": {},
     "output_type": "display_data"
    },
    {
     "name": "stdout",
     "output_type": "stream",
     "text": [
      "Draw trajectory of animal C\n"
     ]
    },
    {
     "data": {
      "image/png": "[encoded data removed]",
      "text/plain": [
       "<matplotlib.figure.Figure at 0x20c3a8bb9e8>"
      ]
     },
     "metadata": {},
     "output_type": "display_data"
    },
    {
     "data": {
      "text/html": [
       "<font color=red><h1>this animal not involved in event definition</h1></font>"
      ],
      "text/plain": [
       "<IPython.core.display.HTML object>"
      ]
     },
     "metadata": {},
     "output_type": "display_data"
    },
    {
     "name": "stdout",
     "output_type": "stream",
     "text": [
      "Draw trajectory of animal D\n"
     ]
    },
    {
     "data": {
      "image/png": "[encoded data removed]",
      "text/plain": [
       "<matplotlib.figure.Figure at 0x20c3911f978>"
      ]
     },
     "metadata": {},
     "output_type": "display_data"
    }
   ],
   "source": [
    "def getAnimalBaseIdFromWidget( value ):\n",
    "    if type(value) is Animal:\n",
    "        return value.baseId\n",
    "    return None\n",
    "\n",
    "def printBold( txt , color=\"black\"):\n",
    "    display(HTML(\"<font color={}><h1>{}</h1></font>\".format( color, txt ) ))    \n",
    "    \n",
    "def isInvolved( animal ):\n",
    "    \"\"\" Check if the animal is involved in the current query \"\"\"\n",
    "    for k in animalWidget:\n",
    "        id = getAnimalBaseIdFromWidget( animalWidget[k].value )\n",
    "        if ( id== animal.baseId ):\n",
    "            return True\n",
    "    return False            \n",
    "\n",
    "print( \"Event selected: \", eventWidget.value )\n",
    "print( \"Animal A: \" , animalWidget['A'].value )\n",
    "print( \"Animal B: \" , animalWidget['B'].value )\n",
    "print( \"Animal C: \" , animalWidget['C'].value )\n",
    "print( \"Animal D: \" , animalWidget['D'].value )\n",
    "\n",
    "minFrame = startFrameWidget.value\n",
    "maxFrame = endFrameWidget.value\n",
    "\n",
    "print ( \"Start time: \", d_h_m_s_toText ( convert_to_d_h_m_s( minFrame ) ) )\n",
    "print ( \"End time: \", d_h_m_s_toText ( convert_to_d_h_m_s( maxFrame ) ) )\n",
    "\n",
    "idA = getAnimalBaseIdFromWidget( animalWidget['A'].value )\n",
    "idB = getAnimalBaseIdFromWidget( animalWidget['B'].value )\n",
    "idC = getAnimalBaseIdFromWidget( animalWidget['C'].value )\n",
    "idD = getAnimalBaseIdFromWidget( animalWidget['D'].value )\n",
    "\n",
    "eventTimeLine = EventTimeLine( connection, eventWidget.value, idA = idA, idB = idB, idC = idC, idD = idD, minFrame = minFrame, maxFrame = maxFrame )        \n",
    "\n",
    "printBold( eventTimeLine )\n",
    "# display number of events:\n",
    "printBold( \"Number of events : \" + str(eventTimeLine.getNumberOfEvent()) , color = \"red\" )\n",
    "\n",
    "# display events in time line\n",
    "data = []\n",
    "    \n",
    "for event in eventTimeLine.eventList:\n",
    "    data.append( [ event.startFrame, event.endFrame, event.duration() ] )\n",
    "    #print( event.startFrame, event.endFrame, event.duration() )\n",
    "\n",
    "df = pd.DataFrame( data = np.array( data ), columns=[ \"Start frame\",\"End frame\", \"Duration (in frame)\" ] )\n",
    "display( df )\n",
    "\n",
    "printBold( \"Distribution of duration of events:\" )\n",
    "eventTimeLine.plotEventDurationDistributionBar()\n",
    "printBold( \"Distribution of duration of events in bins:\" )\n",
    "eventTimeLine.plotEventDurationDistributionHist()\n",
    "printBold( \"Time line of event:\" )\n",
    "eventTimeLine.plotTimeLine()\n",
    "\n",
    "#show location of events\n",
    "\n",
    "animalPool.loadDetection( start= minFrame, end = maxFrame )\n",
    "animalPool.filterDetectionByEventTimeLine( eventTimeLine )\n",
    "\n",
    "for animalKey in animalPool.getAnimalDictionnary():\n",
    "    animal = animalPool.getAnimalDictionnary()[animalKey]\n",
    "    \n",
    "    if isInvolved( animal ) :\n",
    "        printBold( \"involved\", color =\"green\")        \n",
    "    else:\n",
    "        printBold( \"this animal not involved in event definition\", color =\"red\" )\n",
    "    \n",
    "    animal.plotTrajectory()\n",
    "\n"
   ]
  },
  {
   "cell_type": "code",
   "execution_count": null,
   "metadata": {
    "collapsed": true
   },
   "outputs": [],
   "source": []
  }
 ],
 "metadata": {
  "kernelspec": {
   "display_name": "Python 3",
   "language": "python",
   "name": "python3"
  },
  "language_info": {
   "codemirror_mode": {
    "name": "ipython",
    "version": 3
   },
   "file_extension": ".py",
   "mimetype": "text/x-python",
   "name": "python",
   "nbconvert_exporter": "python",
   "pygments_lexer": "ipython3",
   "version": "3.6.3"
  }
 },
 "nbformat": 4,
 "nbformat_minor": 2
}
